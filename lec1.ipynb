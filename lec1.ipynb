{
 "cells": [
  {
   "cell_type": "code",
   "execution_count": 7,
   "metadata": {},
   "outputs": [
    {
     "data": {
      "text/plain": [
       "0.936635692630336"
      ]
     },
     "execution_count": 7,
     "metadata": {},
     "output_type": "execute_result"
    }
   ],
   "source": [
    "import numpy as np \n",
    "np.mean(np.random.normal(1,2,1000))"
   ]
  },
  {
   "cell_type": "code",
   "execution_count": 8,
   "metadata": {},
   "outputs": [
    {
     "data": {
      "text/plain": [
       "1.0680705352386342"
      ]
     },
     "execution_count": 8,
     "metadata": {},
     "output_type": "execute_result"
    }
   ],
   "source": [
    "np.random.normal(1,2,1000).mean()"
   ]
  },
  {
   "cell_type": "code",
   "execution_count": 9,
   "metadata": {},
   "outputs": [
    {
     "data": {
      "text/plain": [
       "2.7622310146371367"
      ]
     },
     "execution_count": 9,
     "metadata": {},
     "output_type": "execute_result"
    }
   ],
   "source": [
    "np.random.uniform(-1,3,20).max()"
   ]
  },
  {
   "cell_type": "code",
   "execution_count": 10,
   "metadata": {},
   "outputs": [
    {
     "data": {
      "text/plain": [
       "2.0235553137173397"
      ]
     },
     "execution_count": 10,
     "metadata": {},
     "output_type": "execute_result"
    }
   ],
   "source": [
    "np.random.exponential(2,1000).mean() #take mean as parameter "
   ]
  },
  {
   "cell_type": "code",
   "execution_count": 11,
   "metadata": {},
   "outputs": [
    {
     "data": {
      "text/plain": [
       "(array([0.31589648, 0.13960763, 0.05420061, 0.02189924, 0.00766473,\n",
       "        0.00437985, 0.00328489, 0.        , 0.        , 0.00054748]),\n",
       " array([2.81694512e-05, 1.82657591e+00, 3.65312366e+00, 5.47967141e+00,\n",
       "        7.30621915e+00, 9.13276690e+00, 1.09593146e+01, 1.27858624e+01,\n",
       "        1.46124101e+01, 1.64389579e+01, 1.82655056e+01]),\n",
       " <BarContainer object of 10 artists>)"
      ]
     },
     "execution_count": 11,
     "metadata": {},
     "output_type": "execute_result"
    },
    {
     "data": {
      "image/png": "[encoded data removed]",
      "text/plain": [
       "<Figure size 640x480 with 1 Axes>"
      ]
     },
     "metadata": {},
     "output_type": "display_data"
    }
   ],
   "source": [
    "import matplotlib.pyplot as plt \n",
    "plt.hist(np.random.exponential(2,1000),density=True)"
   ]
  },
  {
   "cell_type": "code",
   "execution_count": 12,
   "metadata": {},
   "outputs": [
    {
     "data": {
      "text/plain": [
       "0.17137098260584932"
      ]
     },
     "execution_count": 12,
     "metadata": {},
     "output_type": "execute_result"
    }
   ],
   "source": [
    "np.random.gamma(1)"
   ]
  },
  {
   "cell_type": "code",
   "execution_count": 13,
   "metadata": {},
   "outputs": [
    {
     "data": {
      "text/plain": [
       "(1.7724538509055159, 1.7724538509055159)"
      ]
     },
     "execution_count": 13,
     "metadata": {},
     "output_type": "execute_result"
    }
   ],
   "source": [
    "import math\n",
    "math.gamma(.5),math.sqrt(math.pi)"
   ]
  },
  {
   "cell_type": "code",
   "execution_count": 14,
   "metadata": {},
   "outputs": [
    {
     "data": {
      "text/plain": [
       "KstestResult(statistic=0.0281, pvalue=0.4627273622478035, statistic_location=0.4808127750198192, statistic_sign=1)"
      ]
     },
     "execution_count": 14,
     "metadata": {},
     "output_type": "execute_result"
    }
   ],
   "source": [
    "import scipy.stats as sps\n",
    "x=np.random.normal(1,2,1000)\n",
    "Fx=sps.norm.cdf(x,1,2)\n",
    "sps.kstest(Fx,np.arange(0,1,1e-4))\n"
   ]
  },
  {
   "cell_type": "code",
   "execution_count": 15,
   "metadata": {},
   "outputs": [
    {
     "name": "stdout",
     "output_type": "stream",
     "text": [
      "\u001b[0;31mSignature:\u001b[0m       \u001b[0msps\u001b[0m\u001b[0;34m.\u001b[0m\u001b[0mexpon\u001b[0m\u001b[0;34m(\u001b[0m\u001b[0;34m*\u001b[0m\u001b[0margs\u001b[0m\u001b[0;34m,\u001b[0m \u001b[0;34m**\u001b[0m\u001b[0mkwds\u001b[0m\u001b[0;34m)\u001b[0m\u001b[0;34m\u001b[0m\u001b[0;34m\u001b[0m\u001b[0m\n",
      "\u001b[0;31mType:\u001b[0m            expon_gen\n",
      "\u001b[0;31mString form:\u001b[0m     <scipy.stats._continuous_distns.expon_gen object at 0x7f80f48062d0>\n",
      "\u001b[0;31mFile:\u001b[0m            /usr/lib/python3/dist-packages/scipy/stats/_continuous_distns.py\n",
      "\u001b[0;31mDocstring:\u001b[0m      \n",
      "An exponential continuous random variable.\n",
      "\n",
      "As an instance of the `rv_continuous` class, `expon` object inherits from it\n",
      "a collection of generic methods (see below for the full list),\n",
      "and completes them with details specific for this particular distribution.\n",
      "\n",
      "Methods\n",
      "-------\n",
      "rvs(loc=0, scale=1, size=1, random_state=None)\n",
      "    Random variates.\n",
      "pdf(x, loc=0, scale=1)\n",
      "    Probability density function.\n",
      "logpdf(x, loc=0, scale=1)\n",
      "    Log of the probability density function.\n",
      "cdf(x, loc=0, scale=1)\n",
      "    Cumulative distribution function.\n",
      "logcdf(x, loc=0, scale=1)\n",
      "    Log of the cumulative distribution function.\n",
      "sf(x, loc=0, scale=1)\n",
      "    Survival function  (also defined as ``1 - cdf``, but `sf` is sometimes more accurate).\n",
      "logsf(x, loc=0, scale=1)\n",
      "    Log of the survival function.\n",
      "ppf(q, loc=0, scale=1)\n",
      "    Percent point function (inverse of ``cdf`` --- percentiles).\n",
      "isf(q, loc=0, scale=1)\n",
      "    Inverse survival function (inverse of ``sf``).\n",
      "moment(order, loc=0, scale=1)\n",
      "    Non-central moment of the specified order.\n",
      "stats(loc=0, scale=1, moments='mv')\n",
      "    Mean('m'), variance('v'), skew('s'), and/or kurtosis('k').\n",
      "entropy(loc=0, scale=1)\n",
      "    (Differential) entropy of the RV.\n",
      "fit(data)\n",
      "    Parameter estimates for generic data.\n",
      "    See `scipy.stats.rv_continuous.fit <https://docs.scipy.org/doc/scipy/reference/generated/scipy.stats.rv_continuous.fit.html#scipy.stats.rv_continuous.fit>`__ for detailed documentation of the\n",
      "    keyword arguments.\n",
      "expect(func, args=(), loc=0, scale=1, lb=None, ub=None, conditional=False, **kwds)\n",
      "    Expected value of a function (of one argument) with respect to the distribution.\n",
      "median(loc=0, scale=1)\n",
      "    Median of the distribution.\n",
      "mean(loc=0, scale=1)\n",
      "    Mean of the distribution.\n",
      "var(loc=0, scale=1)\n",
      "    Variance of the distribution.\n",
      "std(loc=0, scale=1)\n",
      "    Standard deviation of the distribution.\n",
      "interval(confidence, loc=0, scale=1)\n",
      "    Confidence interval with equal areas around the median.\n",
      "\n",
      "Notes\n",
      "-----\n",
      "The probability density function for `expon` is:\n",
      "\n",
      ".. math::\n",
      "\n",
      "    f(x) = \\exp(-x)\n",
      "\n",
      "for :math:`x \\ge 0`.\n",
      "\n",
      "The probability density above is defined in the \"standardized\" form. To shift\n",
      "and/or scale the distribution use the ``loc`` and ``scale`` parameters.\n",
      "Specifically, ``expon.pdf(x, loc, scale)`` is identically\n",
      "equivalent to ``expon.pdf(y) / scale`` with\n",
      "``y = (x - loc) / scale``. Note that shifting the location of a distribution\n",
      "does not make it a \"noncentral\" distribution; noncentral generalizations of\n",
      "some distributions are available in separate classes.\n",
      "\n",
      "A common parameterization for `expon` is in terms of the rate parameter\n",
      "``lambda``, such that ``pdf = lambda * exp(-lambda * x)``. This\n",
      "parameterization corresponds to using ``scale = 1 / lambda``.\n",
      "\n",
      "The exponential distribution is a special case of the gamma\n",
      "distributions, with gamma shape parameter ``a = 1``.\n",
      "\n",
      "Examples\n",
      "--------\n",
      ">>> import numpy as np\n",
      ">>> from scipy.stats import expon\n",
      ">>> import matplotlib.pyplot as plt\n",
      ">>> fig, ax = plt.subplots(1, 1)\n",
      "\n",
      "Calculate the first four moments:\n",
      "\n",
      "\n",
      ">>> mean, var, skew, kurt = expon.stats(moments='mvsk')\n",
      "\n",
      "Display the probability density function (``pdf``):\n",
      "\n",
      ">>> x = np.linspace(expon.ppf(0.01),\n",
      "...                 expon.ppf(0.99), 100)\n",
      ">>> ax.plot(x, expon.pdf(x),\n",
      "...        'r-', lw=5, alpha=0.6, label='expon pdf')\n",
      "\n",
      "Alternatively, the distribution object can be called (as a function)\n",
      "to fix the shape, location and scale parameters. This returns a \"frozen\"\n",
      "RV object holding the given parameters fixed.\n",
      "\n",
      "Freeze the distribution and display the frozen ``pdf``:\n",
      "\n",
      ">>> rv = expon()\n",
      ">>> ax.plot(x, rv.pdf(x), 'k-', lw=2, label='frozen pdf')\n",
      "\n",
      "Check accuracy of ``cdf`` and ``ppf``:\n",
      "\n",
      ">>> vals = expon.ppf([0.001, 0.5, 0.999])\n",
      ">>> np.allclose([0.001, 0.5, 0.999], expon.cdf(vals))\n",
      "True\n",
      "\n",
      "Generate random numbers:\n",
      "\n",
      ">>> r = expon.rvs(size=1000)\n",
      "\n",
      "And compare the histogram:\n",
      "\n",
      ">>> ax.hist(r, density=True, bins='auto', histtype='stepfilled', alpha=0.2)\n",
      ">>> ax.set_xlim([x[0], x[-1]])\n",
      ">>> ax.legend(loc='best', frameon=False)\n",
      ">>> plt.show()\n",
      "\u001b[0;31mClass docstring:\u001b[0m\n",
      "An exponential continuous random variable.\n",
      "\n",
      "%(before_notes)s\n",
      "\n",
      "Notes\n",
      "-----\n",
      "The probability density function for `expon` is:\n",
      "\n",
      ".. math::\n",
      "\n",
      "    f(x) = \\exp(-x)\n",
      "\n",
      "for :math:`x \\ge 0`.\n",
      "\n",
      "%(after_notes)s\n",
      "\n",
      "A common parameterization for `expon` is in terms of the rate parameter\n",
      "``lambda``, such that ``pdf = lambda * exp(-lambda * x)``. This\n",
      "parameterization corresponds to using ``scale = 1 / lambda``.\n",
      "\n",
      "The exponential distribution is a special case of the gamma\n",
      "distributions, with gamma shape parameter ``a = 1``.\n",
      "\n",
      "%(example)s\n",
      "\u001b[0;31mCall docstring:\u001b[0m \n",
      "Freeze the distribution for the given arguments.\n",
      "\n",
      "Parameters\n",
      "----------\n",
      "arg1, arg2, arg3,... : array_like\n",
      "    The shape parameter(s) for the distribution.  Should include all\n",
      "    the non-optional arguments, may include ``loc`` and ``scale``.\n",
      "\n",
      "Returns\n",
      "-------\n",
      "rv_frozen : rv_frozen instance\n",
      "    The frozen distribution.\n"
     ]
    }
   ],
   "source": [
    "x=np.random.uniform(1,2,10000)\n",
    "sps.uniform.cdf(x,1,1) # cdf(a,b-a) \n",
    "sps.expon?"
   ]
  },
  {
   "cell_type": "code",
   "execution_count": 16,
   "metadata": {},
   "outputs": [
    {
     "name": "stdout",
     "output_type": "stream",
     "text": [
      "\u001b[0;31mDocstring:\u001b[0m\n",
      "exponential(scale=1.0, size=None)\n",
      "\n",
      "Draw samples from an exponential distribution.\n",
      "\n",
      "Its probability density function is\n",
      "\n",
      ".. math:: f(x; \\frac{1}{\\beta}) = \\frac{1}{\\beta} \\exp(-\\frac{x}{\\beta}),\n",
      "\n",
      "for ``x > 0`` and 0 elsewhere. :math:`\\beta` is the scale parameter,\n",
      "which is the inverse of the rate parameter :math:`\\lambda = 1/\\beta`.\n",
      "The rate parameter is an alternative, widely used parameterization\n",
      "of the exponential distribution [3]_.\n",
      "\n",
      "The exponential distribution is a continuous analogue of the\n",
      "geometric distribution.  It describes many common situations, such as\n",
      "the size of raindrops measured over many rainstorms [1]_, or the time\n",
      "between page requests to Wikipedia [2]_.\n",
      "\n",
      ".. note::\n",
      "    New code should use the `~numpy.random.Generator.exponential`\n",
      "    method of a `~numpy.random.Generator` instance instead;\n",
      "    please see the :ref:`random-quick-start`.\n",
      "\n",
      "Parameters\n",
      "----------\n",
      "scale : float or array_like of floats\n",
      "    The scale parameter, :math:`\\beta = 1/\\lambda`. Must be\n",
      "    non-negative.\n",
      "size : int or tuple of ints, optional\n",
      "    Output shape.  If the given shape is, e.g., ``(m, n, k)``, then\n",
      "    ``m * n * k`` samples are drawn.  If size is ``None`` (default),\n",
      "    a single value is returned if ``scale`` is a scalar.  Otherwise,\n",
      "    ``np.array(scale).size`` samples are drawn.\n",
      "\n",
      "Returns\n",
      "-------\n",
      "out : ndarray or scalar\n",
      "    Drawn samples from the parameterized exponential distribution.\n",
      "\n",
      "See Also\n",
      "--------\n",
      "random.Generator.exponential: which should be used for new code.\n",
      "\n",
      "References\n",
      "----------\n",
      ".. [1] Peyton Z. Peebles Jr., \"Probability, Random Variables and\n",
      "       Random Signal Principles\", 4th ed, 2001, p. 57.\n",
      ".. [2] Wikipedia, \"Poisson process\",\n",
      "       https://en.wikipedia.org/wiki/Poisson_process\n",
      ".. [3] Wikipedia, \"Exponential distribution\",\n",
      "       https://en.wikipedia.org/wiki/Exponential_distribution\n",
      "\u001b[0;31mType:\u001b[0m      builtin_function_or_method\n"
     ]
    }
   ],
   "source": [
    "np.random.exponential?"
   ]
  },
  {
   "cell_type": "code",
   "execution_count": 17,
   "metadata": {},
   "outputs": [
    {
     "ename": "SyntaxError",
     "evalue": "positional argument follows keyword argument (2214354997.py, line 5)",
     "output_type": "error",
     "traceback": [
      "\u001b[0;36m  Cell \u001b[0;32mIn [17], line 5\u001b[0;36m\u001b[0m\n\u001b[0;31m    np.random.choice(X,p=pmf,size)\u001b[0m\n\u001b[0m                                 ^\u001b[0m\n\u001b[0;31mSyntaxError\u001b[0m\u001b[0;31m:\u001b[0m positional argument follows keyword argument\n"
     ]
    }
   ],
   "source": [
    "np.random.binomial(n,p,size)\n",
    "np.random.geometric(p,size)\n",
    "np.random.negative_binomial(r,p,size)\n",
    "np.random.poisson(mean,size)\n",
    "np.random.choice(X,p=pmf,size)\n"
   ]
  },
  {
   "cell_type": "code",
   "execution_count": null,
   "metadata": {},
   "outputs": [
    {
     "name": "stdout",
     "output_type": "stream",
     "text": [
      "\u001b[0;31mSignature:\u001b[0m       \u001b[0msps\u001b[0m\u001b[0;34m.\u001b[0m\u001b[0mpoisson\u001b[0m\u001b[0;34m(\u001b[0m\u001b[0;34m*\u001b[0m\u001b[0margs\u001b[0m\u001b[0;34m,\u001b[0m \u001b[0;34m**\u001b[0m\u001b[0mkwds\u001b[0m\u001b[0;34m)\u001b[0m\u001b[0;34m\u001b[0m\u001b[0;34m\u001b[0m\u001b[0m\n",
      "\u001b[0;31mType:\u001b[0m            poisson_gen\n",
      "\u001b[0;31mString form:\u001b[0m     <scipy.stats._discrete_distns.poisson_gen object at 0x7f2b7d5ec390>\n",
      "\u001b[0;31mFile:\u001b[0m            /usr/lib/python3/dist-packages/scipy/stats/_discrete_distns.py\n",
      "\u001b[0;31mDocstring:\u001b[0m      \n",
      "A Poisson discrete random variable.\n",
      "\n",
      "As an instance of the `rv_discrete` class, `poisson` object inherits from it\n",
      "a collection of generic methods (see below for the full list),\n",
      "and completes them with details specific for this particular distribution.\n",
      "\n",
      "Methods\n",
      "-------\n",
      "rvs(mu, loc=0, size=1, random_state=None)\n",
      "    Random variates.\n",
      "pmf(k, mu, loc=0)\n",
      "    Probability mass function.\n",
      "logpmf(k, mu, loc=0)\n",
      "    Log of the probability mass function.\n",
      "cdf(k, mu, loc=0)\n",
      "    Cumulative distribution function.\n",
      "logcdf(k, mu, loc=0)\n",
      "    Log of the cumulative distribution function.\n",
      "sf(k, mu, loc=0)\n",
      "    Survival function  (also defined as ``1 - cdf``, but `sf` is sometimes more accurate).\n",
      "logsf(k, mu, loc=0)\n",
      "    Log of the survival function.\n",
      "ppf(q, mu, loc=0)\n",
      "    Percent point function (inverse of ``cdf`` --- percentiles).\n",
      "isf(q, mu, loc=0)\n",
      "    Inverse survival function (inverse of ``sf``).\n",
      "stats(mu, loc=0, moments='mv')\n",
      "    Mean('m'), variance('v'), skew('s'), and/or kurtosis('k').\n",
      "entropy(mu, loc=0)\n",
      "    (Differential) entropy of the RV.\n",
      "expect(func, args=(mu,), loc=0, lb=None, ub=None, conditional=False)\n",
      "    Expected value of a function (of one argument) with respect to the distribution.\n",
      "median(mu, loc=0)\n",
      "    Median of the distribution.\n",
      "mean(mu, loc=0)\n",
      "    Mean of the distribution.\n",
      "var(mu, loc=0)\n",
      "    Variance of the distribution.\n",
      "std(mu, loc=0)\n",
      "    Standard deviation of the distribution.\n",
      "interval(confidence, mu, loc=0)\n",
      "    Confidence interval with equal areas around the median.\n",
      "\n",
      "Notes\n",
      "-----\n",
      "The probability mass function for `poisson` is:\n",
      "\n",
      ".. math::\n",
      "\n",
      "    f(k) = \\exp(-\\mu) \\frac{\\mu^k}{k!}\n",
      "\n",
      "for :math:`k \\ge 0`.\n",
      "\n",
      "`poisson` takes :math:`\\mu \\geq 0` as shape parameter.\n",
      "When :math:`\\mu = 0`, the ``pmf`` method\n",
      "returns ``1.0`` at quantile :math:`k = 0`.\n",
      "\n",
      "The probability mass function above is defined in the \"standardized\" form.\n",
      "To shift distribution use the ``loc`` parameter.\n",
      "Specifically, ``poisson.pmf(k, mu, loc)`` is identically\n",
      "equivalent to ``poisson.pmf(k - loc, mu)``.\n",
      "\n",
      "Examples\n",
      "--------\n",
      ">>> import numpy as np\n",
      ">>> from scipy.stats import poisson\n",
      ">>> import matplotlib.pyplot as plt\n",
      ">>> fig, ax = plt.subplots(1, 1)\n",
      "\n",
      "Calculate the first four moments:\n",
      "\n",
      ">>> mu = 0.6\n",
      ">>> mean, var, skew, kurt = poisson.stats(mu, moments='mvsk')\n",
      "\n",
      "Display the probability mass function (``pmf``):\n",
      "\n",
      ">>> x = np.arange(poisson.ppf(0.01, mu),\n",
      "...               poisson.ppf(0.99, mu))\n",
      ">>> ax.plot(x, poisson.pmf(x, mu), 'bo', ms=8, label='poisson pmf')\n",
      ">>> ax.vlines(x, 0, poisson.pmf(x, mu), colors='b', lw=5, alpha=0.5)\n",
      "\n",
      "Alternatively, the distribution object can be called (as a function)\n",
      "to fix the shape and location. This returns a \"frozen\" RV object holding\n",
      "the given parameters fixed.\n",
      "\n",
      "Freeze the distribution and display the frozen ``pmf``:\n",
      "\n",
      ">>> rv = poisson(mu)\n",
      ">>> ax.vlines(x, 0, rv.pmf(x), colors='k', linestyles='-', lw=1,\n",
      "...         label='frozen pmf')\n",
      ">>> ax.legend(loc='best', frameon=False)\n",
      ">>> plt.show()\n",
      "\n",
      "Check accuracy of ``cdf`` and ``ppf``:\n",
      "\n",
      ">>> prob = poisson.cdf(x, mu)\n",
      ">>> np.allclose(x, poisson.ppf(prob, mu))\n",
      "True\n",
      "\n",
      "Generate random numbers:\n",
      "\n",
      ">>> r = poisson.rvs(mu, size=1000)\n",
      "\u001b[0;31mClass docstring:\u001b[0m\n",
      "A Poisson discrete random variable.\n",
      "\n",
      "%(before_notes)s\n",
      "\n",
      "Notes\n",
      "-----\n",
      "The probability mass function for `poisson` is:\n",
      "\n",
      ".. math::\n",
      "\n",
      "    f(k) = \\exp(-\\mu) \\frac{\\mu^k}{k!}\n",
      "\n",
      "for :math:`k \\ge 0`.\n",
      "\n",
      "`poisson` takes :math:`\\mu \\geq 0` as shape parameter.\n",
      "When :math:`\\mu = 0`, the ``pmf`` method\n",
      "returns ``1.0`` at quantile :math:`k = 0`.\n",
      "\n",
      "%(after_notes)s\n",
      "\n",
      "%(example)s\n",
      "\u001b[0;31mCall docstring:\u001b[0m \n",
      "Freeze the distribution for the given arguments.\n",
      "\n",
      "Parameters\n",
      "----------\n",
      "arg1, arg2, arg3,... : array_like\n",
      "    The shape parameter(s) for the distribution.  Should include all\n",
      "    the non-optional arguments, may include ``loc`` and ``scale``.\n",
      "\n",
      "Returns\n",
      "-------\n",
      "rv_frozen : rv_frozen instance\n",
      "    The frozen distribution.\n"
     ]
    },
    {
     "name": "stdout",
     "output_type": "stream",
     "text": [
      "0.0\n"
     ]
    }
   ],
   "source": [
    "p,mu,sigma=0.5,0,1\n",
    "print(sps.norm.ppf(p,mu,sigma))\n",
    "sps.poisson?"
   ]
  },
  {
   "cell_type": "code",
   "execution_count": null,
   "metadata": {},
   "outputs": [
    {
     "data": {
      "text/plain": [
       "0.9625657732472964"
      ]
     },
     "execution_count": 15,
     "metadata": {},
     "output_type": "execute_result"
    }
   ],
   "source": [
    "O=np.array([13,12,15,14,11,15])\n",
    "E=np.array([80/6]*6)\n",
    "sps.chisquare(O,E).pvalue"
   ]
  },
  {
   "cell_type": "code",
   "execution_count": null,
   "metadata": {},
   "outputs": [
    {
     "data": {
      "text/plain": [
       "1.4142135623730951"
      ]
     },
     "execution_count": 16,
     "metadata": {},
     "output_type": "execute_result"
    }
   ],
   "source": [
    "math.sqrt(2)"
   ]
  },
  {
   "cell_type": "code",
   "execution_count": null,
   "metadata": {},
   "outputs": [],
   "source": [
    "import pandas as pd\n",
    "x=pd.read_excel(\"~/Downloads/Telegram Desktop/GOF.xlsx\")"
   ]
  },
  {
   "cell_type": "code",
   "execution_count": null,
   "metadata": {},
   "outputs": [
    {
     "data": {
      "text/plain": [
       "0     6\n",
       "1     1\n",
       "2     5\n",
       "3     9\n",
       "4     4\n",
       "     ..\n",
       "95    5\n",
       "96    5\n",
       "97    5\n",
       "98    0\n",
       "99    3\n",
       "Name: obs, Length: 100, dtype: int64"
      ]
     },
     "execution_count": 18,
     "metadata": {},
     "output_type": "execute_result"
    }
   ],
   "source": [
    "x['obs']"
   ]
  },
  {
   "cell_type": "code",
   "execution_count": null,
   "metadata": {},
   "outputs": [
    {
     "data": {
      "text/plain": [
       "4.075"
      ]
     },
     "execution_count": 19,
     "metadata": {},
     "output_type": "execute_result"
    }
   ],
   "source": [
    "#kertosis m4/m2^2 - 3    if =0 mesokurtic, leptokurtic (>0 ) pareto, t , platykurtic (<0) eg. uniform \n",
    "\n",
    "x=np.random.poisson(4,1000)\n",
    "x.mean()\n",
    "\n"
   ]
  },
  {
   "cell_type": "code",
   "execution_count": null,
   "metadata": {},
   "outputs": [
    {
     "data": {
      "text/plain": [
       "DescribeResult(nobs=1000, minmax=(0, 12), mean=4.075, variance=3.9673423423423424, skewness=0.4918419995913512, kurtosis=0.14552361700098304)"
      ]
     },
     "execution_count": 20,
     "metadata": {},
     "output_type": "execute_result"
    }
   ],
   "source": [
    "sps.describe(x)"
   ]
  },
  {
   "cell_type": "code",
   "execution_count": null,
   "metadata": {},
   "outputs": [
    {
     "data": {
      "text/plain": [
       "0.4918419995913512"
      ]
     },
     "execution_count": 21,
     "metadata": {},
     "output_type": "execute_result"
    }
   ],
   "source": [
    "sps.skew(x)"
   ]
  },
  {
   "cell_type": "code",
   "execution_count": null,
   "metadata": {},
   "outputs": [
    {
     "data": {
      "text/plain": [
       "0.4918419995913512"
      ]
     },
     "execution_count": 22,
     "metadata": {},
     "output_type": "execute_result"
    }
   ],
   "source": [
    "sps.moment(x,3)/(sps.moment(x,2)**1.5)"
   ]
  },
  {
   "cell_type": "code",
   "execution_count": null,
   "metadata": {},
   "outputs": [
    {
     "data": {
      "text/plain": [
       "0.0017331103881490506"
      ]
     },
     "execution_count": 23,
     "metadata": {},
     "output_type": "execute_result"
    }
   ],
   "source": [
    "1-sps.binom.cdf(49,200,1/6)"
   ]
  },
  {
   "cell_type": "code",
   "execution_count": null,
   "metadata": {},
   "outputs": [
    {
     "data": {
      "text/plain": [
       "4.486631667290184e-07"
      ]
     },
     "execution_count": 24,
     "metadata": {},
     "output_type": "execute_result"
    }
   ],
   "source": [
    "sps.binom.cdf(10,200,1/6)"
   ]
  },
  {
   "cell_type": "code",
   "execution_count": null,
   "metadata": {},
   "outputs": [
    {
     "data": {
      "text/plain": [
       "BinomTestResult(k=50, n=200, alternative='greater', statistic=0.25, pvalue=0.001733110388149081)"
      ]
     },
     "execution_count": 25,
     "metadata": {},
     "output_type": "execute_result"
    }
   ],
   "source": [
    "#Binomial Test  K (no of sucess), N no of sample ,  And p \n",
    "sps.binomtest(50,200,1/6, alternative=\"greater\")"
   ]
  },
  {
   "cell_type": "code",
   "execution_count": null,
   "metadata": {},
   "outputs": [],
   "source": [
    "# P-value 1-F(k-1) if k>np else F(k)"
   ]
  },
  {
   "cell_type": "code",
   "execution_count": null,
   "metadata": {},
   "outputs": [
    {
     "data": {
      "text/plain": [
       "SignificanceResult(statistic=24.0, pvalue=0.0026702276500365075)"
      ]
     },
     "execution_count": 27,
     "metadata": {},
     "output_type": "execute_result"
    }
   ],
   "source": [
    "#Fisher's Exact Test \n",
    "sps.fisher_exact([[8,2],[2,12]])"
   ]
  },
  {
   "cell_type": "code",
   "execution_count": null,
   "metadata": {},
   "outputs": [
    {
     "data": {
      "text/plain": [
       "SignificanceResult(statistic=0.1875, pvalue=0.10405168932561584)"
      ]
     },
     "execution_count": 28,
     "metadata": {},
     "output_type": "execute_result"
    }
   ],
   "source": [
    "sps.fisher_exact([[2,8],[8,6]])"
   ]
  },
  {
   "cell_type": "code",
   "execution_count": null,
   "metadata": {},
   "outputs": [
    {
     "data": {
      "text/plain": [
       "SignificanceResult(statistic=117.0, pvalue=7.189270549076715e-05)"
      ]
     },
     "execution_count": 29,
     "metadata": {},
     "output_type": "execute_result"
    }
   ],
   "source": [
    "sps.fisher_exact([[9,1],[1,13]])"
   ]
  },
  {
   "cell_type": "code",
   "execution_count": null,
   "metadata": {},
   "outputs": [
    {
     "data": {
      "text/plain": [
       "SignificanceResult(statistic=52.0, pvalue=0.0004894822501499039)"
      ]
     },
     "execution_count": 30,
     "metadata": {},
     "output_type": "execute_result"
    }
   ],
   "source": [
    "sps.fisher_exact([[8,2],[1,13]])"
   ]
  },
  {
   "cell_type": "code",
   "execution_count": null,
   "metadata": {},
   "outputs": [
    {
     "data": {
      "text/plain": [
       "12"
      ]
     },
     "execution_count": 31,
     "metadata": {},
     "output_type": "execute_result"
    }
   ],
   "source": [
    "math.comb(4,2)\n",
    "math.perm(4,2)"
   ]
  },
  {
   "cell_type": "code",
   "execution_count": null,
   "metadata": {},
   "outputs": [
    {
     "data": {
      "text/plain": [
       "0.4398643620906232"
      ]
     },
     "execution_count": 45,
     "metadata": {},
     "output_type": "execute_result"
    }
   ],
   "source": [
    "# Monte Carlo Test \n",
    "data=sps.skewnorm.rvs(a=1,size=100)\n",
    "d=(data,)\n",
    "sps.skew(data)\n",
    "\n"
   ]
  },
  {
   "cell_type": "code",
   "execution_count": null,
   "metadata": {},
   "outputs": [
    {
     "name": "stdout",
     "output_type": "stream",
     "text": [
      "\u001b[0;31mSignature:\u001b[0m\n",
      "\u001b[0msps\u001b[0m\u001b[0;34m.\u001b[0m\u001b[0mbootstrap\u001b[0m\u001b[0;34m(\u001b[0m\u001b[0;34m\u001b[0m\n",
      "\u001b[0;34m\u001b[0m    \u001b[0mdata\u001b[0m\u001b[0;34m,\u001b[0m\u001b[0;34m\u001b[0m\n",
      "\u001b[0;34m\u001b[0m    \u001b[0mstatistic\u001b[0m\u001b[0;34m,\u001b[0m\u001b[0;34m\u001b[0m\n",
      "\u001b[0;34m\u001b[0m    \u001b[0;34m*\u001b[0m\u001b[0;34m,\u001b[0m\u001b[0;34m\u001b[0m\n",
      "\u001b[0;34m\u001b[0m    \u001b[0mn_resamples\u001b[0m\u001b[0;34m=\u001b[0m\u001b[0;36m9999\u001b[0m\u001b[0;34m,\u001b[0m\u001b[0;34m\u001b[0m\n",
      "\u001b[0;34m\u001b[0m    \u001b[0mbatch\u001b[0m\u001b[0;34m=\u001b[0m\u001b[0;32mNone\u001b[0m\u001b[0;34m,\u001b[0m\u001b[0;34m\u001b[0m\n",
      "\u001b[0;34m\u001b[0m    \u001b[0mvectorized\u001b[0m\u001b[0;34m=\u001b[0m\u001b[0;32mNone\u001b[0m\u001b[0;34m,\u001b[0m\u001b[0;34m\u001b[0m\n",
      "\u001b[0;34m\u001b[0m    \u001b[0mpaired\u001b[0m\u001b[0;34m=\u001b[0m\u001b[0;32mFalse\u001b[0m\u001b[0;34m,\u001b[0m\u001b[0;34m\u001b[0m\n",
      "\u001b[0;34m\u001b[0m    \u001b[0maxis\u001b[0m\u001b[0;34m=\u001b[0m\u001b[0;36m0\u001b[0m\u001b[0;34m,\u001b[0m\u001b[0;34m\u001b[0m\n",
      "\u001b[0;34m\u001b[0m    \u001b[0mconfidence_level\u001b[0m\u001b[0;34m=\u001b[0m\u001b[0;36m0.95\u001b[0m\u001b[0;34m,\u001b[0m\u001b[0;34m\u001b[0m\n",
      "\u001b[0;34m\u001b[0m    \u001b[0mmethod\u001b[0m\u001b[0;34m=\u001b[0m\u001b[0;34m'BCa'\u001b[0m\u001b[0;34m,\u001b[0m\u001b[0;34m\u001b[0m\n",
      "\u001b[0;34m\u001b[0m    \u001b[0mbootstrap_result\u001b[0m\u001b[0;34m=\u001b[0m\u001b[0;32mNone\u001b[0m\u001b[0;34m,\u001b[0m\u001b[0;34m\u001b[0m\n",
      "\u001b[0;34m\u001b[0m    \u001b[0mrandom_state\u001b[0m\u001b[0;34m=\u001b[0m\u001b[0;32mNone\u001b[0m\u001b[0;34m,\u001b[0m\u001b[0;34m\u001b[0m\n",
      "\u001b[0;34m\u001b[0m\u001b[0;34m)\u001b[0m\u001b[0;34m\u001b[0m\u001b[0;34m\u001b[0m\u001b[0m\n",
      "\u001b[0;31mDocstring:\u001b[0m\n",
      "Compute a two-sided bootstrap confidence interval of a statistic.\n",
      "\n",
      "When `method` is ``'percentile'``, a bootstrap confidence interval is\n",
      "computed according to the following procedure.\n",
      "\n",
      "1. Resample the data: for each sample in `data` and for each of\n",
      "   `n_resamples`, take a random sample of the original sample\n",
      "   (with replacement) of the same size as the original sample.\n",
      "\n",
      "2. Compute the bootstrap distribution of the statistic: for each set of\n",
      "   resamples, compute the test statistic.\n",
      "\n",
      "3. Determine the confidence interval: find the interval of the bootstrap\n",
      "   distribution that is\n",
      "\n",
      "   - symmetric about the median and\n",
      "   - contains `confidence_level` of the resampled statistic values.\n",
      "\n",
      "While the ``'percentile'`` method is the most intuitive, it is rarely\n",
      "used in practice. Two more common methods are available, ``'basic'``\n",
      "('reverse percentile') and ``'BCa'`` ('bias-corrected and accelerated');\n",
      "they differ in how step 3 is performed.\n",
      "\n",
      "If the samples in `data` are  taken at random from their respective\n",
      "distributions :math:`n` times, the confidence interval returned by\n",
      "`bootstrap` will contain the true value of the statistic for those\n",
      "distributions approximately `confidence_level`:math:`\\, \\times \\, n` times.\n",
      "\n",
      "Parameters\n",
      "----------\n",
      "data : sequence of array-like\n",
      "     Each element of data is a sample from an underlying distribution.\n",
      "statistic : callable\n",
      "    Statistic for which the confidence interval is to be calculated.\n",
      "    `statistic` must be a callable that accepts ``len(data)`` samples\n",
      "    as separate arguments and returns the resulting statistic.\n",
      "    If `vectorized` is set ``True``,\n",
      "    `statistic` must also accept a keyword argument `axis` and be\n",
      "    vectorized to compute the statistic along the provided `axis`.\n",
      "n_resamples : int, default: ``9999``\n",
      "    The number of resamples performed to form the bootstrap distribution\n",
      "    of the statistic.\n",
      "batch : int, optional\n",
      "    The number of resamples to process in each vectorized call to\n",
      "    `statistic`. Memory usage is O(`batch`*``n``), where ``n`` is the\n",
      "    sample size. Default is ``None``, in which case ``batch = n_resamples``\n",
      "    (or ``batch = max(n_resamples, n)`` for ``method='BCa'``).\n",
      "vectorized : bool, optional\n",
      "    If `vectorized` is set ``False``, `statistic` will not be passed\n",
      "    keyword argument `axis` and is expected to calculate the statistic\n",
      "    only for 1D samples. If ``True``, `statistic` will be passed keyword\n",
      "    argument `axis` and is expected to calculate the statistic along `axis`\n",
      "    when passed an ND sample array. If ``None`` (default), `vectorized`\n",
      "    will be set ``True`` if ``axis`` is a parameter of `statistic`. Use of\n",
      "    a vectorized statistic typically reduces computation time.\n",
      "paired : bool, default: ``False``\n",
      "    Whether the statistic treats corresponding elements of the samples\n",
      "    in `data` as paired.\n",
      "axis : int, default: ``0``\n",
      "    The axis of the samples in `data` along which the `statistic` is\n",
      "    calculated.\n",
      "confidence_level : float, default: ``0.95``\n",
      "    The confidence level of the confidence interval.\n",
      "method : {'percentile', 'basic', 'bca'}, default: ``'BCa'``\n",
      "    Whether to return the 'percentile' bootstrap confidence interval\n",
      "    (``'percentile'``), the 'basic' (AKA 'reverse') bootstrap confidence\n",
      "    interval (``'basic'``), or the bias-corrected and accelerated bootstrap\n",
      "    confidence interval (``'BCa'``).\n",
      "bootstrap_result : BootstrapResult, optional\n",
      "    Provide the result object returned by a previous call to `bootstrap`\n",
      "    to include the previous bootstrap distribution in the new bootstrap\n",
      "    distribution. This can be used, for example, to change\n",
      "    `confidence_level`, change `method`, or see the effect of performing\n",
      "    additional resampling without repeating computations.\n",
      "random_state : {None, int, `numpy.random.Generator`,\n",
      "                `numpy.random.RandomState`}, optional\n",
      "\n",
      "    Pseudorandom number generator state used to generate resamples.\n",
      "\n",
      "    If `random_state` is ``None`` (or `np.random`), the\n",
      "    `numpy.random.RandomState` singleton is used.\n",
      "    If `random_state` is an int, a new ``RandomState`` instance is used,\n",
      "    seeded with `random_state`.\n",
      "    If `random_state` is already a ``Generator`` or ``RandomState``\n",
      "    instance then that instance is used.\n",
      "\n",
      "Returns\n",
      "-------\n",
      "res : BootstrapResult\n",
      "    An object with attributes:\n",
      "\n",
      "    confidence_interval : ConfidenceInterval\n",
      "        The bootstrap confidence interval as an instance of\n",
      "        `collections.namedtuple` with attributes `low` and `high`.\n",
      "    bootstrap_distribution : ndarray\n",
      "        The bootstrap distribution, that is, the value of `statistic` for\n",
      "        each resample. The last dimension corresponds with the resamples\n",
      "        (e.g. ``res.bootstrap_distribution.shape[-1] == n_resamples``).\n",
      "    standard_error : float or ndarray\n",
      "        The bootstrap standard error, that is, the sample standard\n",
      "        deviation of the bootstrap distribution.\n",
      "\n",
      "Warns\n",
      "-----\n",
      "`~scipy.stats.DegenerateDataWarning`\n",
      "    Generated when ``method='BCa'`` and the bootstrap distribution is\n",
      "    degenerate (e.g. all elements are identical).\n",
      "\n",
      "Notes\n",
      "-----\n",
      "Elements of the confidence interval may be NaN for ``method='BCa'`` if\n",
      "the bootstrap distribution is degenerate (e.g. all elements are identical).\n",
      "In this case, consider using another `method` or inspecting `data` for\n",
      "indications that other analysis may be more appropriate (e.g. all\n",
      "observations are identical).\n",
      "\n",
      "References\n",
      "----------\n",
      ".. [1] B. Efron and R. J. Tibshirani, An Introduction to the Bootstrap,\n",
      "   Chapman & Hall/CRC, Boca Raton, FL, USA (1993)\n",
      ".. [2] Nathaniel E. Helwig, \"Bootstrap Confidence Intervals\",\n",
      "   http://users.stat.umn.edu/~helwig/notes/bootci-Notes.pdf\n",
      ".. [3] Bootstrapping (statistics), Wikipedia,\n",
      "   https://en.wikipedia.org/wiki/Bootstrapping_%28statistics%29\n",
      "\n",
      "Examples\n",
      "--------\n",
      "Suppose we have sampled data from an unknown distribution.\n",
      "\n",
      ">>> import numpy as np\n",
      ">>> rng = np.random.default_rng()\n",
      ">>> from scipy.stats import norm\n",
      ">>> dist = norm(loc=2, scale=4)  # our \"unknown\" distribution\n",
      ">>> data = dist.rvs(size=100, random_state=rng)\n",
      "\n",
      "We are interested in the standard deviation of the distribution.\n",
      "\n",
      ">>> std_true = dist.std()      # the true value of the statistic\n",
      ">>> print(std_true)\n",
      "4.0\n",
      ">>> std_sample = np.std(data)  # the sample statistic\n",
      ">>> print(std_sample)\n",
      "3.9460644295563863\n",
      "\n",
      "The bootstrap is used to approximate the variability we would expect if we\n",
      "were to repeatedly sample from the unknown distribution and calculate the\n",
      "statistic of the sample each time. It does this by repeatedly resampling\n",
      "values *from the original sample* with replacement and calculating the\n",
      "statistic of each resample. This results in a \"bootstrap distribution\" of\n",
      "the statistic.\n",
      "\n",
      ">>> import matplotlib.pyplot as plt\n",
      ">>> from scipy.stats import bootstrap\n",
      ">>> data = (data,)  # samples must be in a sequence\n",
      ">>> res = bootstrap(data, np.std, confidence_level=0.9,\n",
      "...                 random_state=rng)\n",
      ">>> fig, ax = plt.subplots()\n",
      ">>> ax.hist(res.bootstrap_distribution, bins=25)\n",
      ">>> ax.set_title('Bootstrap Distribution')\n",
      ">>> ax.set_xlabel('statistic value')\n",
      ">>> ax.set_ylabel('frequency')\n",
      ">>> plt.show()\n",
      "\n",
      "The standard error quantifies this variability. It is calculated as the\n",
      "standard deviation of the bootstrap distribution.\n",
      "\n",
      ">>> res.standard_error\n",
      "0.24427002125829136\n",
      ">>> res.standard_error == np.std(res.bootstrap_distribution, ddof=1)\n",
      "True\n",
      "\n",
      "The bootstrap distribution of the statistic is often approximately normal\n",
      "with scale equal to the standard error.\n",
      "\n",
      ">>> x = np.linspace(3, 5)\n",
      ">>> pdf = norm.pdf(x, loc=std_sample, scale=res.standard_error)\n",
      ">>> fig, ax = plt.subplots()\n",
      ">>> ax.hist(res.bootstrap_distribution, bins=25, density=True)\n",
      ">>> ax.plot(x, pdf)\n",
      ">>> ax.set_title('Normal Approximation of the Bootstrap Distribution')\n",
      ">>> ax.set_xlabel('statistic value')\n",
      ">>> ax.set_ylabel('pdf')\n",
      ">>> plt.show()\n",
      "\n",
      "This suggests that we could construct a 90% confidence interval on the\n",
      "statistic based on quantiles of this normal distribution.\n",
      "\n",
      ">>> norm.interval(0.9, loc=std_sample, scale=res.standard_error)\n",
      "(3.5442759991341726, 4.3478528599786)\n",
      "\n",
      "Due to central limit theorem, this normal approximation is accurate for a\n",
      "variety of statistics and distributions underlying the samples; however,\n",
      "the approximation is not reliable in all cases. Because `bootstrap` is\n",
      "designed to work with arbitrary underlying distributions and statistics,\n",
      "it uses more advanced techniques to generate an accurate confidence\n",
      "interval.\n",
      "\n",
      ">>> print(res.confidence_interval)\n",
      "ConfidenceInterval(low=3.57655333533867, high=4.382043696342881)\n",
      "\n",
      "If we sample from the original distribution 1000 times and form a bootstrap\n",
      "confidence interval for each sample, the confidence interval\n",
      "contains the true value of the statistic approximately 90% of the time.\n",
      "\n",
      ">>> n_trials = 1000\n",
      ">>> ci_contains_true_std = 0\n",
      ">>> for i in range(n_trials):\n",
      "...    data = (dist.rvs(size=100, random_state=rng),)\n",
      "...    ci = bootstrap(data, np.std, confidence_level=0.9, n_resamples=1000,\n",
      "...                   random_state=rng).confidence_interval\n",
      "...    if ci[0] < std_true < ci[1]:\n",
      "...        ci_contains_true_std += 1\n",
      ">>> print(ci_contains_true_std)\n",
      "875\n",
      "\n",
      "Rather than writing a loop, we can also determine the confidence intervals\n",
      "for all 1000 samples at once.\n",
      "\n",
      ">>> data = (dist.rvs(size=(n_trials, 100), random_state=rng),)\n",
      ">>> res = bootstrap(data, np.std, axis=-1, confidence_level=0.9,\n",
      "...                 n_resamples=1000, random_state=rng)\n",
      ">>> ci_l, ci_u = res.confidence_interval\n",
      "\n",
      "Here, `ci_l` and `ci_u` contain the confidence interval for each of the\n",
      "``n_trials = 1000`` samples.\n",
      "\n",
      ">>> print(ci_l[995:])\n",
      "[3.77729695 3.75090233 3.45829131 3.34078217 3.48072829]\n",
      ">>> print(ci_u[995:])\n",
      "[4.88316666 4.86924034 4.32032996 4.2822427  4.59360598]\n",
      "\n",
      "And again, approximately 90% contain the true value, ``std_true = 4``.\n",
      "\n",
      ">>> print(np.sum((ci_l < std_true) & (std_true < ci_u)))\n",
      "900\n",
      "\n",
      "`bootstrap` can also be used to estimate confidence intervals of\n",
      "multi-sample statistics, including those calculated by hypothesis\n",
      "tests. `scipy.stats.mood` perform's Mood's test for equal scale parameters,\n",
      "and it returns two outputs: a statistic, and a p-value. To get a\n",
      "confidence interval for the test statistic, we first wrap\n",
      "`scipy.stats.mood` in a function that accepts two sample arguments,\n",
      "accepts an `axis` keyword argument, and returns only the statistic.\n",
      "\n",
      ">>> from scipy.stats import mood\n",
      ">>> def my_statistic(sample1, sample2, axis):\n",
      "...     statistic, _ = mood(sample1, sample2, axis=-1)\n",
      "...     return statistic\n",
      "\n",
      "Here, we use the 'percentile' method with the default 95% confidence level.\n",
      "\n",
      ">>> sample1 = norm.rvs(scale=1, size=100, random_state=rng)\n",
      ">>> sample2 = norm.rvs(scale=2, size=100, random_state=rng)\n",
      ">>> data = (sample1, sample2)\n",
      ">>> res = bootstrap(data, my_statistic, method='basic', random_state=rng)\n",
      ">>> print(mood(sample1, sample2)[0])  # element 0 is the statistic\n",
      "-5.521109549096542\n",
      ">>> print(res.confidence_interval)\n",
      "ConfidenceInterval(low=-7.255994487314675, high=-4.016202624747605)\n",
      "\n",
      "The bootstrap estimate of the standard error is also available.\n",
      "\n",
      ">>> print(res.standard_error)\n",
      "0.8344963846318795\n",
      "\n",
      "Paired-sample statistics work, too. For example, consider the Pearson\n",
      "correlation coefficient.\n",
      "\n",
      ">>> from scipy.stats import pearsonr\n",
      ">>> n = 100\n",
      ">>> x = np.linspace(0, 10, n)\n",
      ">>> y = x + rng.uniform(size=n)\n",
      ">>> print(pearsonr(x, y)[0])  # element 0 is the statistic\n",
      "0.9962357936065914\n",
      "\n",
      "We wrap `pearsonr` so that it returns only the statistic.\n",
      "\n",
      ">>> def my_statistic(x, y):\n",
      "...     return pearsonr(x, y)[0]\n",
      "\n",
      "We call `bootstrap` using ``paired=True``.\n",
      "Also, since ``my_statistic`` isn't vectorized to calculate the statistic\n",
      "along a given axis, we pass in ``vectorized=False``.\n",
      "\n",
      ">>> res = bootstrap((x, y), my_statistic, vectorized=False, paired=True,\n",
      "...                 random_state=rng)\n",
      ">>> print(res.confidence_interval)\n",
      "ConfidenceInterval(low=0.9950085825848624, high=0.9971212407917498)\n",
      "\n",
      "The result object can be passed back into `bootstrap` to perform additional\n",
      "resampling:\n",
      "\n",
      ">>> len(res.bootstrap_distribution)\n",
      "9999\n",
      ">>> res = bootstrap((x, y), my_statistic, vectorized=False, paired=True,\n",
      "...                 n_resamples=1001, random_state=rng,\n",
      "...                 bootstrap_result=res)\n",
      ">>> len(res.bootstrap_distribution)\n",
      "11000\n",
      "\n",
      "or to change the confidence interval options:\n",
      "\n",
      ">>> res2 = bootstrap((x, y), my_statistic, vectorized=False, paired=True,\n",
      "...                  n_resamples=0, random_state=rng, bootstrap_result=res,\n",
      "...                  method='percentile', confidence_level=0.9)\n",
      ">>> np.testing.assert_equal(res2.bootstrap_distribution,\n",
      "...                         res.bootstrap_distribution)\n",
      ">>> res.confidence_interval\n",
      "ConfidenceInterval(low=0.9950035351407804, high=0.9971170323404578)\n",
      "\n",
      "without repeating computation of the original bootstrap distribution.\n",
      "\u001b[0;31mFile:\u001b[0m      /usr/lib/python3/dist-packages/scipy/stats/_resampling.py\n",
      "\u001b[0;31mType:\u001b[0m      function\n"
     ]
    }
   ],
   "source": [
    "sps.bootstrap(d,sps.skew)\n",
    "sps.bootstrap?\n"
   ]
  },
  {
   "cell_type": "code",
   "execution_count": 24,
   "metadata": {},
   "outputs": [
    {
     "data": {
      "text/plain": [
       "0      1\n",
       "1      2\n",
       "2      3\n",
       "3      4\n",
       "4      5\n",
       "5      6\n",
       "6      7\n",
       "7      8\n",
       "8      9\n",
       "9     10\n",
       "10    11\n",
       "11    12\n",
       "12    13\n",
       "13    14\n",
       "14    15\n",
       "15    16\n",
       "16    17\n",
       "17    18\n",
       "18    19\n",
       "dtype: int64"
      ]
     },
     "execution_count": 24,
     "metadata": {},
     "output_type": "execute_result"
    }
   ],
   "source": [
    "\n",
    "x=pd.Series(np.arange(1,20))\n",
    "y=pd.Series(np.arange(2,50))\n",
    "x"
   ]
  },
  {
   "cell_type": "code",
   "execution_count": 7,
   "metadata": {},
   "outputs": [
    {
     "data": {
      "text/plain": [
       "array([[0, 1],\n",
       "       [1, 0]])"
      ]
     },
     "execution_count": 7,
     "metadata": {},
     "output_type": "execute_result"
    }
   ],
   "source": [
    "import numpy as np \n",
    "np.array((~np.eye(2, dtype=bool)),dtype=int)   "
   ]
  },
  {
   "cell_type": "code",
   "execution_count": 1,
   "metadata": {},
   "outputs": [
    {
     "name": "stdout",
     "output_type": "stream",
     "text": [
      "[2, 4, 5, 5, 5, 8, 10]\n"
     ]
    }
   ],
   "source": [
    "A = [5, 5, 2, 4, 5, 10, 8]\n",
    "\n",
    "for i in range(len(A)):\n",
    "    for j in range(i+1, len(A)):\n",
    "        if A[i] > A[j]:\n",
    "            A[i], A[j] = A[j], A[i]\n",
    "\n",
    "print(A)"
   ]
  },
  {
   "cell_type": "code",
   "execution_count": 10,
   "metadata": {},
   "outputs": [
    {
     "data": {
      "text/plain": [
       "{'whiskers': [<matplotlib.lines.Line2D at 0x7fd64fe31790>,\n",
       "  <matplotlib.lines.Line2D at 0x7fd64fe32950>,\n",
       "  <matplotlib.lines.Line2D at 0x7fd64fe3ed10>,\n",
       "  <matplotlib.lines.Line2D at 0x7fd64fe3f850>],\n",
       " 'caps': [<matplotlib.lines.Line2D at 0x7fd64fe335d0>,\n",
       "  <matplotlib.lines.Line2D at 0x7fd64fe3c150>,\n",
       "  <matplotlib.lines.Line2D at 0x7fd64fe4c350>,\n",
       "  <matplotlib.lines.Line2D at 0x7fd64fe4ce50>],\n",
       " 'boxes': [<matplotlib.lines.Line2D at 0x7fd64fe310d0>,\n",
       "  <matplotlib.lines.Line2D at 0x7fd64fe3e150>],\n",
       " 'medians': [<matplotlib.lines.Line2D at 0x7fd64fe3cd50>,\n",
       "  <matplotlib.lines.Line2D at 0x7fd64fe4d810>],\n",
       " 'fliers': [<matplotlib.lines.Line2D at 0x7fd64fe3d690>,\n",
       "  <matplotlib.lines.Line2D at 0x7fd64fde9850>],\n",
       " 'means': []}"
      ]
     },
     "execution_count": 10,
     "metadata": {},
     "output_type": "execute_result"
    },
    {
     "data": {
      "image/png": "[encoded data removed]",
      "text/plain": [
       "<Figure size 640x480 with 1 Axes>"
      ]
     },
     "metadata": {},
     "output_type": "display_data"
    }
   ],
   "source": [
    "import matplotlib.pyplot as plt \n",
    "plt.boxplot([A,[9,10,12,12,10,8,7]])\n",
    "# plt.boxplot()"
   ]
  },
  {
   "cell_type": "code",
   "execution_count": 7,
   "metadata": {},
   "outputs": [
    {
     "name": "stdout",
     "output_type": "stream",
     "text": [
      "DescribeResult(nobs=7, minmax=(2, 10), mean=5.571428571428571, variance=6.952380952380954, skewness=0.5026356115888622, kurtosis=-0.632435729029837)\n"
     ]
    }
   ],
   "source": [
    "from scipy import stats\n",
    "print(stats.describe(A))"
   ]
  },
  {
   "cell_type": "code",
   "execution_count": 11,
   "metadata": {},
   "outputs": [
    {
     "data": {
      "text/plain": [
       "F_onewayResult(statistic=0.06521739130434782, pvalue=0.8027565357618935)"
      ]
     },
     "execution_count": 11,
     "metadata": {},
     "output_type": "execute_result"
    }
   ],
   "source": [
    "stats.f_oneway(A,[8,7,6,6,5,5,4])"
   ]
  },
  {
   "cell_type": "code",
   "execution_count": 12,
   "metadata": {},
   "outputs": [],
   "source": [
    "import numpy as np \n",
    "sample=[]\n",
    "n,p=15,0.3\n",
    "for i in range(15):\n",
    "    x=np.sum(np.random.rand(n)<p)\n",
    "    sample.append(x)\n"
   ]
  },
  {
   "cell_type": "code",
   "execution_count": 13,
   "metadata": {},
   "outputs": [
    {
     "data": {
      "text/plain": [
       "4.2"
      ]
     },
     "execution_count": 13,
     "metadata": {},
     "output_type": "execute_result"
    }
   ],
   "source": [
    "np.mean(sample)"
   ]
  },
  {
   "cell_type": "code",
   "execution_count": 14,
   "metadata": {},
   "outputs": [
    {
     "data": {
      "text/plain": [
       "4.5"
      ]
     },
     "execution_count": 14,
     "metadata": {},
     "output_type": "execute_result"
    }
   ],
   "source": [
    "15*0.3"
   ]
  },
  {
   "cell_type": "code",
   "execution_count": 2,
   "metadata": {},
   "outputs": [
    {
     "data": {
      "text/plain": [
       "<matplotlib.collections.PathCollection at 0x7fe63c313510>"
      ]
     },
     "execution_count": 2,
     "metadata": {},
     "output_type": "execute_result"
    },
    {
     "data": {
      "image/png": "[encoded data removed]",
      "text/plain": [
       "<Figure size 640x480 with 1 Axes>"
      ]
     },
     "metadata": {},
     "output_type": "display_data"
    }
   ],
   "source": [
    "import matplotlib.pyplot as plt\n",
    "import numpy as np \n",
    "x=np.arange(1,30)\n",
    "b=0.75 \n",
    "plt.scatter(x,b**x)"
   ]
  }
 ],
 "metadata": {
  "kernelspec": {
   "display_name": "Python 3",
   "language": "python",
   "name": "python3"
  },
  "language_info": {
   "codemirror_mode": {
    "name": "ipython",
    "version": 3
   },
   "file_extension": ".py",
   "mimetype": "text/x-python",
   "name": "python",
   "nbconvert_exporter": "python",
   "pygments_lexer": "ipython3",
   "version": "3.11.2"
  }
 },
 "nbformat": 4,
 "nbformat_minor": 2
}
